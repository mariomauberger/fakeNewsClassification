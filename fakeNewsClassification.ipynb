{
  "nbformat": 4,
  "nbformat_minor": 0,
  "metadata": {
    "colab": {
      "provenance": []
    },
    "kernelspec": {
      "name": "python3",
      "display_name": "Python 3"
    },
    "language_info": {
      "name": "python"
    }
  },
  "cells": [
    {
      "cell_type": "code",
      "execution_count": 17,
      "metadata": {
        "id": "Rm4Dzc6gkfGL",
        "colab": {
          "base_uri": "https://localhost:8080/"
        },
        "outputId": "10a4118b-a7f8-433b-d5e2-f33f0827743a"
      },
      "outputs": [
        {
          "output_type": "stream",
          "name": "stderr",
          "text": [
            "[nltk_data] Downloading package stopwords to /root/nltk_data...\n",
            "[nltk_data]   Package stopwords is already up-to-date!\n",
            "[nltk_data] Downloading package punkt to /root/nltk_data...\n",
            "[nltk_data]   Package punkt is already up-to-date!\n",
            "/usr/local/lib/python3.8/dist-packages/IPython/core/interactiveshell.py:3326: FutureWarning: The error_bad_lines argument has been deprecated and will be removed in a future version.\n",
            "\n",
            "\n",
            "  exec(code_obj, self.user_global_ns, self.user_ns)\n",
            "Skipping line 19129: ',' expected after '\"'\n",
            "Skipping line 19135: ',' expected after '\"'\n",
            "Skipping line 35839: ',' expected after '\"'\n",
            "Skipping line 54756: ',' expected after '\"'\n",
            "Skipping line 55033: ',' expected after '\"'\n",
            "Skipping line 57877: unexpected end of data\n",
            "Skipping line 18842: Expected 4 fields in line 18842, saw 14\n",
            "Skipping line 35544: Expected 4 fields in line 35544, saw 46\n",
            "Skipping line 54713: Expected 4 fields in line 54713, saw 5\n",
            "Skipping line 54721: Expected 4 fields in line 54721, saw 5\n",
            "Skipping line 54732: Expected 4 fields in line 54732, saw 5\n",
            "Skipping line 54734: Expected 4 fields in line 54734, saw 5\n",
            "Skipping line 54737: Expected 4 fields in line 54737, saw 6\n",
            "Skipping line 54739: Expected 4 fields in line 54739, saw 9\n"
          ]
        },
        {
          "output_type": "stream",
          "name": "stdout",
          "text": [
            "['no', 'comment', 'expect', 'barack', 'obama', 'member', 'fyf911', 'fukyoflag', 'blacklivesmatt', 'movement', 'call', 'lynch', 'hang', 'white', 'peopl', 'cop', 'they', 'encourag', 'other', 'radio', 'show', 'tuesday', 'night', 'turn', 'tide', 'kill', 'white', 'peopl', 'cop', 'send', 'messag', 'kill', 'black', 'peopl', 'americaon', 'fyoflag', 'organ', 'call', 'sunshin', 'she', 'radio', 'blog', 'show', 'host', 'texa', 'call', 'sunshin', 'fing', 'opinion', 'radio', 'show', 'a', 'snapshot', 'fyf911', 'lolatwhitefear', 'twitter', 'page', '953', 'pm', 'show', 'urg', 'support', 'call', 'now', 'fyf911', 'tonight', 'continu', 'dismantl', 'illus', 'white', 'below', 'snapshot', 'twitter', 'radio', 'call', 'invit', 'fyf911th', 'radio', 'show', 'air', '1000', 'pm', 'eastern', 'standard', 'timedur', 'show', 'caller', 'clear', 'call', 'lynch', 'kill', 'white', 'peoplea', '239', 'minut', 'clip', 'radio', 'show', 'heard', 'here', 'it', 'provid', 'breitbart', 'texa', 'someon', 'would', 'like', 'refer', 'hannib', 'he', 'alreadi', 'receiv', 'death', 'threat', 'result', 'interrupt', 'fyf911', 'confer', 'callsan', 'unidentifi', 'black', 'man', 'said', 'mother', 'fker', 'themselv', 'start', 'fing', 'up', 'like', 'us', 'bunch', 'nier', 'takin', 'one', 'us', 'out', 'roll', 'up', 'he', 'said', 'caus', 'alreadi', 'roll', 'gang', 'anyway', 'there', 'six', 'seven', 'black', 'mother', 'fcker', 'see', 'white', 'person', 'lynch', 'ass', 'let', 'turn', 'tabl', 'they', 'conspir', 'cop', 'start', 'lose', 'peopl', 'state', 'emerg', 'he', 'specul', 'one', 'two', 'thing', 'would', 'happen', 'bigass', 'r', 's', 'war', 'nier', 'go', 'start', 'backin', 'up', 'we', 'alreadi', 'get', 'kill', 'fk', 'got', 'lose', 'sunshin', 'could', 'heard', 'say', 'yep', 'true', 'that', 'fking', 'true', 'he', 'said', 'we', 'need', 'turn', 'tabl', 'them', 'our', 'kid', 'get', 'shot', 'here', 'somebodi', 'need', 'becom', 'sacrific', 'sideh', 'said', 'everybodi', 'st', 'whatev', 'like', 'i', 'say', 'everybodi', 'differ', 'posit', 'war', 'he', 'continu', 'becaus', 'give', 'fk', 'anyway', 'he', 'said', 'again', 'we', 'might', 'well', 'util', 'st', 'turn', 'tabl', 'ner', 'he', 'said', 'way', 'start', 'lookin', 'like', 'havin', 'mani', 'casualti', 'causal', 'side', 'instead', 'our', 'they', 'kill', 'black', 'peopl', 'black', 'live', 'matter', 'mother', 'fker', 'got', 'make', 'matter', 'them', 'find', 'mother', 'fker', 'alon', 'snap', 'ass', 'fin', 'hang', 'damn', 'tree', 'take', 'pictur', 'send', 'mother', 'fker', 'we', 'need', 'one', 'exampl', 'peopl', 'start', 'watchin', 'this', 'turn', 'tabl', 'st', 'said', 'he', 'said', 'start', 'trickledown', 'effect', 'he', 'said', 'one', 'white', 'person', 'hung', 'flathang', 'start', 'trickledown', 'effect', 'he', 'continu', 'black', 'peopl', 'good', 'start', 'trend', 'he', 'said', 'get', 'upperhand', 'anoth', 'black', 'man', 'spoke', 'say', 'need', 'kill', 'cop', 'kill', 'us', 'the', 'first', 'black', 'male', 'said', 'that', 'best', 'method', 'right', 'there', 'breitbart', 'texa', 'previous', 'report', 'sunshin', 'upset', 'racist', 'white', 'peopl', 'infiltr', 'disrupt', 'one', 'confer', 'call', 'she', 'subsequ', 'releas', 'phone', 'number', 'one', 'infiltr', 'the', 'veteran', 'immedi', 'start', 'receiv', 'threaten', 'callson', 'fyoflag', 'movement', 'support', 'alleg', 'told', 'veteran', 'infiltr', 'public', 'post', 'confer', 'call', 'we', 'go', 'rape', 'gut', 'pregnant', 'wife', 'fing', 'piec', 'sht', 'unborn', 'creatur', 'hung', 'tree', 'breitbart', 'texa', 'previous', 'encount', 'sunshin', 'sandra', 'bland', 'protest', 'waller', 'counti', 'jail', 'texa', 'said', 'white', 'peopl', 'kill', 'she', 'told', 'journalist', 'photograph', 'you', 'see', 'nappyass', 'hair', 'head', 'that', 'mean', 'i', 'one', 'milit', 'negro', 'she', 'said', 'protest', 'redneck', 'motherfk', 'murder', 'sandra', 'bland', 'nappi', 'hair', 'like', 'me', 'fyf911', 'black', 'radic', 'say', 'hold', 'imperi', 'power', 'actual', 'respons', 'terrorist', 'attack', 'septemb', '11th', 'account', 'day', 'report', 'breitbart', 'texa', 'there', 'sever', 'websit', 'twitter', 'handl', 'movement', 'palmetto', 'star', 'describ', 'one', 'head', 'organ', 'he', 'said', 'youtub', 'video', 'support', 'burn', 'symbol', 'illus', 'superior', 'fals', 'white', 'supremaci', 'like', 'american', 'flag', 'british', 'flag', 'polic', 'uniform', 'ku', 'klux', 'klan', 'hoodssierra', 'mcgrone', 'nocturnus', 'libertus', 'post', 'help', 'young', 'afrikan', 'clean', 'a', 'rag', 'oppress', 'she', 'post', 'two', 'photo', 'one', 'appear', 'herself', 'photo', 'black', 'man', 'wipe', 'nake', 'butt', 'american', 'flagfor', 'entir', 'stori', 'breitbart', 'news']\n"
          ]
        }
      ],
      "source": [
        "#imports\n",
        "import pandas as pd\n",
        "import numpy as np\n",
        "import matplotlib.pyplot as plt\n",
        "import string\n",
        "import nltk\n",
        "from nltk.corpus import stopwords\n",
        "from nltk.tokenize import word_tokenize\n",
        "import sys\n",
        "import csv\n",
        "\n",
        "csv.field_size_limit(sys.maxsize)\n",
        "nltk.download('stopwords')\n",
        "nltk.download('punkt')\n",
        "stop_words = stopwords.words(\"english\")\n",
        "\n",
        "#Snowballstemmer\n",
        "from nltk.stem.snowball import SnowballStemmer\n",
        "stemmer = SnowballStemmer(\"english\")\n",
        "\n",
        "news_data = pd.read_csv('WELFake_Dataset.csv', engine='python', encoding='utf-8', error_bad_lines=False)\n",
        "\n",
        "\n",
        "def remove_punctuation(some_string):\n",
        "    unpuncted_string = some_string.translate(str.maketrans(\"\",\"\",string.punctuation))\n",
        "    return(unpuncted_string)\n",
        "\n",
        "def apply_stemming(some_string):\n",
        "    new_list = []\n",
        "    for word in some_string.split():\n",
        "        word = stemmer.stem(word)\n",
        "        new_list.append(word)\n",
        "    return(new_list)\n",
        "\n",
        "\n",
        "news_data[\"title_clean\"] = news_data[\"title\"].apply(lambda x: \" \".join([word for word in str(x).split() if word not in (stop_words)]))\n",
        "news_data[\"title_clean\"] = news_data[\"title_clean\"].apply(remove_punctuation)\n",
        "news_data[\"title_clean\"] = news_data[\"title_clean\"].apply(apply_stemming)\n",
        "\n",
        "news_data[\"text_clean\"] = news_data[\"text\"].apply(lambda x: \" \".join([word for word in str(x).split() if word not in (stop_words)]))\n",
        "news_data[\"text_clean\"] = news_data[\"text_clean\"].apply(remove_punctuation)\n",
        "news_data[\"text_clean\"] = news_data[\"text_clean\"].apply(apply_stemming)\n",
        "\n",
        "#print(news_data[\"text_clean\"])"
      ]
    },
    {
      "cell_type": "code",
      "source": [
        "print(news_data[\"title_clean\"][0])\n",
        "print(news_data[\"text_clean\"][0])"
      ],
      "metadata": {
        "colab": {
          "base_uri": "https://localhost:8080/"
        },
        "id": "5TYMmtIlfmPl",
        "outputId": "51b680b3-e0f7-4386-f2f0-f7b02ad107b7"
      },
      "execution_count": 21,
      "outputs": [
        {
          "output_type": "stream",
          "name": "stdout",
          "text": [
            "['law', 'enforc', 'on', 'high', 'alert', 'follow', 'threat', 'against', 'cop', 'and', 'white', 'on', '911bi', 'blacklivesmatt', 'and', 'fyf911', 'terrorist', 'video']\n",
            "['no', 'comment', 'expect', 'barack', 'obama', 'member', 'fyf911', 'fukyoflag', 'blacklivesmatt', 'movement', 'call', 'lynch', 'hang', 'white', 'peopl', 'cop', 'they', 'encourag', 'other', 'radio', 'show', 'tuesday', 'night', 'turn', 'tide', 'kill', 'white', 'peopl', 'cop', 'send', 'messag', 'kill', 'black', 'peopl', 'americaon', 'fyoflag', 'organ', 'call', 'sunshin', 'she', 'radio', 'blog', 'show', 'host', 'texa', 'call', 'sunshin', 'fing', 'opinion', 'radio', 'show', 'a', 'snapshot', 'fyf911', 'lolatwhitefear', 'twitter', 'page', '953', 'pm', 'show', 'urg', 'support', 'call', 'now', 'fyf911', 'tonight', 'continu', 'dismantl', 'illus', 'white', 'below', 'snapshot', 'twitter', 'radio', 'call', 'invit', 'fyf911th', 'radio', 'show', 'air', '1000', 'pm', 'eastern', 'standard', 'timedur', 'show', 'caller', 'clear', 'call', 'lynch', 'kill', 'white', 'peoplea', '239', 'minut', 'clip', 'radio', 'show', 'heard', 'here', 'it', 'provid', 'breitbart', 'texa', 'someon', 'would', 'like', 'refer', 'hannib', 'he', 'alreadi', 'receiv', 'death', 'threat', 'result', 'interrupt', 'fyf911', 'confer', 'callsan', 'unidentifi', 'black', 'man', 'said', 'mother', 'fker', 'themselv', 'start', 'fing', 'up', 'like', 'us', 'bunch', 'nier', 'takin', 'one', 'us', 'out', 'roll', 'up', 'he', 'said', 'caus', 'alreadi', 'roll', 'gang', 'anyway', 'there', 'six', 'seven', 'black', 'mother', 'fcker', 'see', 'white', 'person', 'lynch', 'ass', 'let', 'turn', 'tabl', 'they', 'conspir', 'cop', 'start', 'lose', 'peopl', 'state', 'emerg', 'he', 'specul', 'one', 'two', 'thing', 'would', 'happen', 'bigass', 'r', 's', 'war', 'nier', 'go', 'start', 'backin', 'up', 'we', 'alreadi', 'get', 'kill', 'fk', 'got', 'lose', 'sunshin', 'could', 'heard', 'say', 'yep', 'true', 'that', 'fking', 'true', 'he', 'said', 'we', 'need', 'turn', 'tabl', 'them', 'our', 'kid', 'get', 'shot', 'here', 'somebodi', 'need', 'becom', 'sacrific', 'sideh', 'said', 'everybodi', 'st', 'whatev', 'like', 'i', 'say', 'everybodi', 'differ', 'posit', 'war', 'he', 'continu', 'becaus', 'give', 'fk', 'anyway', 'he', 'said', 'again', 'we', 'might', 'well', 'util', 'st', 'turn', 'tabl', 'ner', 'he', 'said', 'way', 'start', 'lookin', 'like', 'havin', 'mani', 'casualti', 'causal', 'side', 'instead', 'our', 'they', 'kill', 'black', 'peopl', 'black', 'live', 'matter', 'mother', 'fker', 'got', 'make', 'matter', 'them', 'find', 'mother', 'fker', 'alon', 'snap', 'ass', 'fin', 'hang', 'damn', 'tree', 'take', 'pictur', 'send', 'mother', 'fker', 'we', 'need', 'one', 'exampl', 'peopl', 'start', 'watchin', 'this', 'turn', 'tabl', 'st', 'said', 'he', 'said', 'start', 'trickledown', 'effect', 'he', 'said', 'one', 'white', 'person', 'hung', 'flathang', 'start', 'trickledown', 'effect', 'he', 'continu', 'black', 'peopl', 'good', 'start', 'trend', 'he', 'said', 'get', 'upperhand', 'anoth', 'black', 'man', 'spoke', 'say', 'need', 'kill', 'cop', 'kill', 'us', 'the', 'first', 'black', 'male', 'said', 'that', 'best', 'method', 'right', 'there', 'breitbart', 'texa', 'previous', 'report', 'sunshin', 'upset', 'racist', 'white', 'peopl', 'infiltr', 'disrupt', 'one', 'confer', 'call', 'she', 'subsequ', 'releas', 'phone', 'number', 'one', 'infiltr', 'the', 'veteran', 'immedi', 'start', 'receiv', 'threaten', 'callson', 'fyoflag', 'movement', 'support', 'alleg', 'told', 'veteran', 'infiltr', 'public', 'post', 'confer', 'call', 'we', 'go', 'rape', 'gut', 'pregnant', 'wife', 'fing', 'piec', 'sht', 'unborn', 'creatur', 'hung', 'tree', 'breitbart', 'texa', 'previous', 'encount', 'sunshin', 'sandra', 'bland', 'protest', 'waller', 'counti', 'jail', 'texa', 'said', 'white', 'peopl', 'kill', 'she', 'told', 'journalist', 'photograph', 'you', 'see', 'nappyass', 'hair', 'head', 'that', 'mean', 'i', 'one', 'milit', 'negro', 'she', 'said', 'protest', 'redneck', 'motherfk', 'murder', 'sandra', 'bland', 'nappi', 'hair', 'like', 'me', 'fyf911', 'black', 'radic', 'say', 'hold', 'imperi', 'power', 'actual', 'respons', 'terrorist', 'attack', 'septemb', '11th', 'account', 'day', 'report', 'breitbart', 'texa', 'there', 'sever', 'websit', 'twitter', 'handl', 'movement', 'palmetto', 'star', 'describ', 'one', 'head', 'organ', 'he', 'said', 'youtub', 'video', 'support', 'burn', 'symbol', 'illus', 'superior', 'fals', 'white', 'supremaci', 'like', 'american', 'flag', 'british', 'flag', 'polic', 'uniform', 'ku', 'klux', 'klan', 'hoodssierra', 'mcgrone', 'nocturnus', 'libertus', 'post', 'help', 'young', 'afrikan', 'clean', 'a', 'rag', 'oppress', 'she', 'post', 'two', 'photo', 'one', 'appear', 'herself', 'photo', 'black', 'man', 'wipe', 'nake', 'butt', 'american', 'flagfor', 'entir', 'stori', 'breitbart', 'news']\n"
          ]
        }
      ]
    },
    {
      "cell_type": "code",
      "source": [],
      "metadata": {
        "id": "xRE7HJXWhNcV"
      },
      "execution_count": null,
      "outputs": []
    }
  ]
}
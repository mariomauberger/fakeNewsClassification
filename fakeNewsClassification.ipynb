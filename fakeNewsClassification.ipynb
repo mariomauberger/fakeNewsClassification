{
  "nbformat": 4,
  "nbformat_minor": 0,
  "metadata": {
    "colab": {
      "provenance": []
    },
    "kernelspec": {
      "name": "python3",
      "display_name": "Python 3"
    },
    "language_info": {
      "name": "python"
    }
  },
  "cells": [
    {
      "cell_type": "code",
      "execution_count": null,
      "metadata": {
        "id": "Rm4Dzc6gkfGL"
      },
      "outputs": [],
      "source": [
        "#imports\n",
        "import pandas as pd\n",
        "import numpy as np\n",
        "import matplotlib.pyplot as plt\n",
        "import string\n",
        "import nltk\n",
        "from nltk.corpus import stopwords\n",
        "from nltk.tokenize import word_tokenize\n",
        "nltk.download('stopwords')\n",
        "stop_words = set(stopwords.words('english'))\n",
        "nltk.download('punkt')\n",
        "\n",
        "\n",
        "#Snowballstemmer\n",
        "from nltk.stem.snowball import SnowballStemmer\n",
        "\n",
        "\n",
        "\n",
        "news_data = pd.read_csv('data/WELFake_Dataset.csv')"
      ]
    }
  ]
}